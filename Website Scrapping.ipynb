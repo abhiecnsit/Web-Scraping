{
 "cells": [
  {
   "cell_type": "code",
   "execution_count": 1,
   "metadata": {},
   "outputs": [],
   "source": [
    "#Import necessary libraries\n",
    "from bs4 import BeautifulSoup\n",
    "import urllib.request\n",
    "import requests\n",
    "from selenium import webdriver\n",
    "import re\n",
    "import pandas as pd"
   ]
  },
  {
   "cell_type": "code",
   "execution_count": 2,
   "metadata": {},
   "outputs": [],
   "source": [
    "#Create a webdriver varialble to create a link with the desired Website\n",
    "driver = webdriver.Chrome(\"D:/Downloads/chromedriver_win32 (1)/chromedriver\")"
   ]
  },
  {
   "cell_type": "code",
   "execution_count": 3,
   "metadata": {},
   "outputs": [],
   "source": [
    "#Getting information from the website\n",
    "#Use try-except to counter any error due weak internet connection or any other such problems \n",
    "\n",
    "try:\n",
    "    page = driver.get(\"https://www.dramexchange.com\")\n",
    "except requests.exceptions.RequestException as e:\n",
    "    print(e)\n",
    "    exit()\n",
    "    \n",
    "soup = BeautifulSoup(driver.page_source,'lxml')"
   ]
  },
  {
   "cell_type": "code",
   "execution_count": 4,
   "metadata": {},
   "outputs": [],
   "source": [
    "#print(soup)"
   ]
  },
  {
   "cell_type": "code",
   "execution_count": 5,
   "metadata": {},
   "outputs": [],
   "source": [
    "#Find the desired html tag using BeautifulSoup \n",
    "#In this case we get the table\n",
    "table = soup.find('tbody',attrs={\"id\":\"tb_NationalDramSpotPrice\"})"
   ]
  },
  {
   "cell_type": "code",
   "execution_count": 6,
   "metadata": {},
   "outputs": [],
   "source": [
    "#Getting table rows (tr)\n",
    "table_data = table.findAll('tr')"
   ]
  },
  {
   "cell_type": "code",
   "execution_count": 7,
   "metadata": {},
   "outputs": [
    {
     "name": "stdout",
     "output_type": "stream",
     "text": [
      "['Item', 'Daily High', 'Daily Low', 'Session High', 'Session Low', 'Session Average', 'Session Change', 'History']\n"
     ]
    }
   ],
   "source": [
    "#Get different column names, we will furthur concentrate on our target colum\n",
    "\n",
    "headings = []\n",
    "for td in table_data[0].findAll('td'):\n",
    "    headings.append(td.text.replace(\"\\n\",\" \").strip())\n",
    "    \n",
    "print(headings)    "
   ]
  },
  {
   "cell_type": "code",
   "execution_count": 8,
   "metadata": {},
   "outputs": [],
   "source": [
    "data =[]\n",
    "all_data = []"
   ]
  },
  {
   "cell_type": "code",
   "execution_count": 9,
   "metadata": {},
   "outputs": [
    {
     "name": "stdout",
     "output_type": "stream",
     "text": [
      "Session Average for DDR4 4G (512M*8) 2400 Mbps: 1.787\n"
     ]
    }
   ],
   "source": [
    "\n",
    "for tr in (table_data):\n",
    "    t_row ={}\n",
    "    for td,th in zip(tr.findAll('td'),headings):\n",
    "        t_row[th] = \" \".join(td.text.replace(\"\\n\",\"\").split())\n",
    "    #Within our desired column('Item') look for the desired Data('DDR4 4G (512M*8) 2400 Mbps')    \n",
    "    if t_row['Item']=='DDR4 4G (512M*8) 2400 Mbps':\n",
    "    #Now within the 'DDR4 4G (512M*8) 2400 Mbps' row find the target data('Session Average')    \n",
    "        value = (t_row['Session Average'])\n",
    "        print(\"Session Average for DDR4 4G (512M*8) 2400 Mbps:\", value)\n",
    "        data.append(value)  \n",
    "    all_data.append(t_row)"
   ]
  },
  {
   "cell_type": "code",
   "execution_count": 10,
   "metadata": {},
   "outputs": [
    {
     "data": {
      "text/plain": [
       "['1.787']"
      ]
     },
     "execution_count": 10,
     "metadata": {},
     "output_type": "execute_result"
    }
   ],
   "source": [
    "data"
   ]
  },
  {
   "cell_type": "code",
   "execution_count": 12,
   "metadata": {},
   "outputs": [
    {
     "name": "stdout",
     "output_type": "stream",
     "text": [
      "                             Item  Daily High  Daily Low  Session High  \\\n",
      "0                            Item  Daily High  Daily Low  Session High   \n",
      "1        DDR4 8G (1G*8) 2400 Mbps        3.20       2.55          3.20   \n",
      "2      DDR4 4G (512M*8) 2400 Mbps        1.90       1.70          1.90   \n",
      "3   DDR3 4Gb 512Mx8 1600/1866Mbps        1.65       1.39          1.65   \n",
      "4             DDR3 4Gb 512Mx8 eTT        1.20       1.03          1.20   \n",
      "5  DDR3 4Gb 256Mx16 1600/1866Mbps        1.54       1.36          1.54   \n",
      "6   DDR3 2Gb 256Mx8 1600/1866Mbps        1.10       0.96          1.10   \n",
      "\n",
      "   Session Low  Session Average  Session Change  History  \n",
      "0  Session Low  Session Average  Session Change  History  \n",
      "1         2.55            2.640         -0.11 %           \n",
      "2         1.70            1.787          0.00 %           \n",
      "3         1.39            1.466         -0.34 %           \n",
      "4         1.03            1.130          0.00 %           \n",
      "5         1.36            1.411          0.00 %           \n",
      "6         0.96            1.020         -0.68 %           \n"
     ]
    }
   ],
   "source": [
    "print(pd.DataFrame(all_data))"
   ]
  },
  {
   "cell_type": "code",
   "execution_count": 13,
   "metadata": {},
   "outputs": [],
   "source": [
    "#Another way to get the target value, create a DataFrame of complete table\n",
    "df = pd.DataFrame(all_data,columns=headings)"
   ]
  },
  {
   "cell_type": "code",
   "execution_count": 14,
   "metadata": {},
   "outputs": [
    {
     "data": {
      "text/plain": [
       "2    1.787\n",
       "Name: Session Average, dtype: object"
      ]
     },
     "execution_count": 14,
     "metadata": {},
     "output_type": "execute_result"
    }
   ],
   "source": [
    "#Using the DataFrame indexing\n",
    "df[df['Item']=='DDR4 4G (512M*8) 2400 Mbps']['Session Average']"
   ]
  },
  {
   "cell_type": "code",
   "execution_count": null,
   "metadata": {},
   "outputs": [],
   "source": []
  }
 ],
 "metadata": {
  "kernelspec": {
   "display_name": "Python 3",
   "language": "python",
   "name": "python3"
  },
  "language_info": {
   "codemirror_mode": {
    "name": "ipython",
    "version": 3
   },
   "file_extension": ".py",
   "mimetype": "text/x-python",
   "name": "python",
   "nbconvert_exporter": "python",
   "pygments_lexer": "ipython3",
   "version": "3.7.6"
  }
 },
 "nbformat": 4,
 "nbformat_minor": 4
}
